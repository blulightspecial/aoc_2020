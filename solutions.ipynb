{
 "cells": [
  {
   "cell_type": "markdown",
   "metadata": {},
   "source": [
    "# Advent of Code 2020\n",
    "\n",
    "login is **Github** credentials\n",
    "\n",
    "https://adventofcode.com/2020/"
   ]
  },
  {
   "cell_type": "code",
   "execution_count": 1,
   "metadata": {},
   "outputs": [],
   "source": [
    "print(\"hello santa\")"
   ]
  },
  {
   "cell_type": "markdown",
   "metadata": {},
   "source": [
    "## Imports Setup Etc"
   ]
  },
  {
   "cell_type": "code",
   "execution_count": 2,
   "metadata": {},
   "outputs": [],
   "source": [
    "import numpy as np\n",
    "import pandas as pd\n",
    "import re"
   ]
  },
  {
   "cell_type": "markdown",
   "metadata": {},
   "source": [
    "## Day 1    \n",
    "\n",
    "**Part 1**: Find the 2 numbers that add to 2020 report the product of those numbers\n",
    "\n",
    "**Part 2**: Same as part 1 but with 3 numbers"
   ]
  },
  {
   "cell_type": "code",
   "execution_count": 3,
   "metadata": {},
   "outputs": [
    {
     "name": "stdout",
     "output_type": "stream",
     "text": [
      "Part 1:\n",
      "62 + 1958 = 2020\n",
      "62 x 1958 = 121396\n",
      "\n",
      "Part 2\n",
      "117 + 426 + 1477 = 2020\n",
      "117 x 426 x 1477 = 73616634\n"
     ]
    }
   ],
   "source": [
    "def day1():\n",
    "\n",
    "    ## load in data\n",
    "    with open(\"input01.txt\") as f: # Read file ('with' closes when done)\n",
    "        info = f.read()\n",
    "    info = info.split()            # Get list of values (as strings)\n",
    "    info = [int(s) for s in info]  # Convert strings to ints\n",
    "\n",
    "    ## Sort data\n",
    "    info.sort()  #sort the data in place. \n",
    "\n",
    "    ### part 1\n",
    "\n",
    "    ## Check sums on the sorted info\n",
    "        ## start with smallest number add largest number until you get smaller than 2020 \n",
    "        ## at that point move to second largest number\n",
    "    n1 = 0\n",
    "    n2 = 0\n",
    "    jj = len(info)-1\n",
    "\n",
    "    for ii in range(len(info)): \n",
    "        while (info[ii] + info[jj]) >= 2020 and n1 == 0:\n",
    "            if info[ii] + info[jj] == 2020:\n",
    "                n1 = info[ii]  # grab number we are looking for\n",
    "                n2 = info[jj]  # grab number\n",
    "                jj = 1         # break while loop\n",
    "            jj -= 1\n",
    "        jj += 1\n",
    "    \n",
    "    print(\"Part 1:\")\n",
    "    print(\"{} + {} = {}\".format(n1,n2,n1+n2))\n",
    "    print(\"{} x {} = {}\".format(n1,n2,n1*n2))\n",
    "\n",
    "    ### part 2\n",
    "\n",
    "    ## similar to part 1, but we'll start one at the lowest, another right above, a third at the end. \n",
    "        ## move one at end down until gt 2020 then move second one up and try again (similar to above)\n",
    "        ## if it's too big at jj==1, then increment ii and start over\n",
    "    n1 = 0\n",
    "    n2 = 0\n",
    "    n3 = 0\n",
    "    ii = 0\n",
    "    jj = 1\n",
    "    kk = len(info)-1\n",
    "    while n1 == 0:\n",
    "        while jj < kk and n1 == 0:\n",
    "            while (info[ii] + info[jj] + info[kk]) >= 2020 and n1 == 0:\n",
    "    #             print(\"{} + {} + {} = {}\".format(info[ii],info[jj],info[kk],info[ii]+info[jj]+info[kk]))\n",
    "                if info[ii] + info[jj] + info[kk] == 2020:\n",
    "                    n1 = info[ii]  # grab number we are looking for\n",
    "                    n2 = info[jj]  # grab number\n",
    "                    n3 = info[kk]  # grab number\n",
    "                kk -= 1\n",
    "            jj += 1\n",
    "            kk += 1\n",
    "        ii += 1\n",
    "        jj = ii + 1\n",
    "        kk = len(info)-1\n",
    "\n",
    "    print(\"\\nPart 2\")\n",
    "    print(\"{} + {} + {} = {}\".format(n1,n2,n3,n1+n2+n3))\n",
    "    print(\"{} x {} x {} = {}\".format(n1,n2,n3,n1*n2*n3))\n",
    "\n",
    "day1()"
   ]
  },
  {
   "cell_type": "markdown",
   "metadata": {},
   "source": [
    "## Day 2\n",
    "\n",
    "**Part 1**: Count the number of valid passwords. Valid passwords are ones where the number of occurences of the letter indicated are between the min and max number of occurences shown.\n",
    "\n",
    "**Part 2**: New definition of valid, the letter indicated needs to occur at exactly one of the 2 indicies indicated. Note that this is a \"one based\" indexing system for the problem.\n",
    "\n",
    "#### Resources\n",
    "\n",
    "* StackOverflow XOR in python\n",
    "  * https://stackoverflow.com/questions/432842/how-do-you-get-the-logical-xor-of-two-variables-in-python\n",
    "* Documentation for python re library and usage\n",
    "  * https://docs.python.org/3/library/re.html\n",
    "* Suuuper Helpful video from Corey Schafer on regular expressions\n",
    "  * The part that I'm most interested in in about 45 minutes in\n",
    "  * https://www.youtube.com/watch?v=K8L6KVGG-7o\n"
   ]
  },
  {
   "cell_type": "code",
   "execution_count": 4,
   "metadata": {},
   "outputs": [
    {
     "name": "stdout",
     "output_type": "stream",
     "text": [
      "Part 1\n",
      "There are 536 valid passwords\n",
      "\n",
      "Part 2\n",
      "There are 558 valid passwords\n"
     ]
    }
   ],
   "source": [
    "def day2():\n",
    "    \n",
    "    ### Part 1\n",
    "    \n",
    "    ## Load in data\n",
    "    with open(\"input02.txt\") as f: # Read file ('with' closes when done)\n",
    "        raw = f.read()\n",
    "    \n",
    "    ## Split up rows into (min, max, letter, password)\n",
    "    pat = re.compile(\"(\\d+)-(\\d+)\\s([a-z]):\\s([a-z]+)\")\n",
    "    reres = pat.findall(raw)\n",
    "\n",
    "    ## Make a list to keep track of valid passwords\n",
    "    isValid = [False]*len(reres)\n",
    "    \n",
    "    ## Check validity\n",
    "    rcnt = 0\n",
    "    for row in reres:\n",
    "        ccnt = 0\n",
    "        for c in row[3]:\n",
    "            if c == row[2]:\n",
    "                ccnt += 1\n",
    "        isValid[rcnt] = ccnt >= int(row[0]) and ccnt <= int(row[1])\n",
    "        rcnt += 1\n",
    "    \n",
    "    print(\"Part 1\")\n",
    "    print(\"There are {} valid passwords\".format(sum(isValid)))\n",
    "    \n",
    "    ### Part 2\n",
    "        ## Reusing a lot of part 1. Only validity check changes.\n",
    "    \n",
    "    ## Make a list to keep track of valid passwords\n",
    "    isValid = [False]*len(reres)\n",
    "    \n",
    "    ## Check validity\n",
    "    rcnt = 0\n",
    "    for row in reres:\n",
    "        ## see if characters at required indices are valid\n",
    "            ## the \"-1\" converts the 1 based idx given to our zero based index\n",
    "            ## != functions as xor operator comparing booleans\n",
    "        isValid[rcnt] = ((row[3][int(row[0])-1] == row[2]) != \n",
    "                         (row[3][int(row[1])-1] == row[2]))\n",
    "        rcnt += 1\n",
    "    \n",
    "    print(\"\\nPart 2\")\n",
    "    print(\"There are {} valid passwords\".format(sum(isValid)))\n",
    "            \n",
    "day2()"
   ]
  },
  {
   "cell_type": "markdown",
   "metadata": {},
   "source": [
    "## Day 3\n",
    "\n",
    "**Part 1**: It's a long description. Essentially count the number of `#` you hit onthe way down moving over 3 cells and down 1 cell. Assume that the pattern given is repeated indefinite number of times horizontally.\n",
    "\n",
    "This basically looks like it's going to be pretty easy with good use of the modulo function.\n",
    "\n",
    "**Part 2**: Try again with some different slopes. Report the product of those slopes. Specifically, try:\n",
    "\n",
    "* Right 1, down 1.\n",
    "* Right 3, down 1. (This is the slope you already checked.)\n",
    "* Right 5, down 1.\n",
    "* Right 7, down 1.\n",
    "* Right 1, down 2\n"
   ]
  },
  {
   "cell_type": "code",
   "execution_count": 5,
   "metadata": {},
   "outputs": [
    {
     "name": "stdout",
     "output_type": "stream",
     "text": [
      "Part 1\n",
      "You will hit 218 trees at an angle of 3 to 1\n",
      "[77, 218, 65, 82, 43]\n",
      "3847183340\n",
      "\n",
      "Part 2\n",
      "The product of the collisions is 3847183340\n"
     ]
    }
   ],
   "source": [
    "def day3_help(over = 3, down = 1):\n",
    "    \n",
    "    ## It's a little clunky to hardcode the file read but... whatever...\n",
    "    ## Load in data\n",
    "    with open(\"input03.txt\") as f: # Read file ('with' closes when done)\n",
    "        raw = f.read()\n",
    "    \n",
    "    ## Split data into a list of rows\n",
    "    res = raw.split()\n",
    "    \n",
    "    ## Work with smaller set initially easier to QC\n",
    "    # res = res[:10]\n",
    "    \n",
    "    ## Set up some control and counter variables\n",
    "    nrow = len(res)     # variable for number of rows\n",
    "    ncol = len(res[0])  # variable for num columns (all rows have same)\n",
    "    colCnt = 0          # track number of collisions\n",
    "    \n",
    "    for ii in range(nrow):\n",
    "        if ii%down == 0 and res[ii][(ii//down)*over%ncol] == \"#\":\n",
    "            colCnt += 1\n",
    "    \n",
    "    return colCnt\n",
    "\n",
    "def day3():\n",
    "    \n",
    "    ### Part 1\n",
    "    \n",
    "    over = 3\n",
    "    down = 1\n",
    "    \n",
    "    colCnt = day3_help(over,down)\n",
    "\n",
    "    print(\"Part 1\")\n",
    "    print(\"You will hit {} trees at an angle of {} to {}\".format(colCnt,over,down))\n",
    "    \n",
    "    ### Part 2\n",
    "        ## Reusing a lot of part 1. Only validity check changes.\n",
    "    \n",
    "    slopes = [[1,1],\n",
    "              [3,1],\n",
    "              [5,1],\n",
    "              [7,1],\n",
    "              [1,2]]\n",
    "    \n",
    "    cols = [0]*5  # Create empty list to store nubmer of collisions each\n",
    "    product = 1\n",
    "    cnt = 0\n",
    "    for slope in slopes:\n",
    "        cols[cnt] = day3_help(slope[0],slope[1])\n",
    "        product *= cols[cnt]\n",
    "        cnt += 1\n",
    "    \n",
    "    print(cols)\n",
    "    print(np.prod(cols))\n",
    "    \n",
    "    print(\"\\nPart 2\")\n",
    "    print(\"The product of the collisions is {}\".format(product))\n",
    "            \n",
    "day3()"
   ]
  },
  {
   "cell_type": "code",
   "execution_count": 6,
   "metadata": {},
   "outputs": [
    {
     "name": "stdout",
     "output_type": "stream",
     "text": [
      "3\n",
      "1.4285714285714286\n",
      "1\n"
     ]
    }
   ],
   "source": [
    "print(10 % 7)\n",
    "print(10/7)\n",
    "print(10//7)"
   ]
  },
  {
   "cell_type": "markdown",
   "metadata": {},
   "source": [
    "## Backup\n",
    "\n",
    "Create alternate backup versions that are easier to diff in git and easier to view in a pinch"
   ]
  },
  {
   "cell_type": "code",
   "execution_count": 7,
   "metadata": {},
   "outputs": [
    {
     "name": "stdout",
     "output_type": "stream",
     "text": [
      "[NbConvertApp] Converting notebook solutions.ipynb to python\n",
      "[NbConvertApp] Writing 7489 bytes to backups/solutions.py\n",
      "Traceback (most recent call last):\n",
      "  File \"/opt/conda/bin/jupyter-nbconvert\", line 11, in <module>\n",
      "    sys.exit(main())\n",
      "  File \"/opt/conda/lib/python3.8/site-packages/jupyter_core/application.py\", line 270, in launch_instance\n",
      "    return super(JupyterApp, cls).launch_instance(argv=argv, **kwargs)\n",
      "  File \"/opt/conda/lib/python3.8/site-packages/traitlets/config/application.py\", line 845, in launch_instance\n",
      "    app.start()\n",
      "  File \"/opt/conda/lib/python3.8/site-packages/nbconvert/nbconvertapp.py\", line 350, in start\n",
      "    self.convert_notebooks()\n",
      "  File \"/opt/conda/lib/python3.8/site-packages/nbconvert/nbconvertapp.py\", line 524, in convert_notebooks\n",
      "    self.convert_single_notebook(notebook_filename)\n",
      "  File \"/opt/conda/lib/python3.8/site-packages/nbconvert/nbconvertapp.py\", line 490, in convert_single_notebook\n",
      "    write_results = self.write_single_notebook(output, resources)\n",
      "  File \"/opt/conda/lib/python3.8/site-packages/nbconvert/nbconvertapp.py\", line 450, in write_single_notebook\n",
      "    write_results = self.writer.write(\n",
      "  File \"/opt/conda/lib/python3.8/site-packages/nbconvert/writers/files.py\", line 126, in write\n",
      "    with io.open(dest, 'w', encoding='utf-8') as f:\n",
      "FileNotFoundError: [Errno 2] No such file or directory: 'backups/solutions.py'\n",
      "[NbConvertApp] Converting notebook solutions.ipynb to markdown\n",
      "[NbConvertApp] Writing 12124 bytes to backups/solutions.md\n",
      "Traceback (most recent call last):\n",
      "  File \"/opt/conda/bin/jupyter-nbconvert\", line 11, in <module>\n",
      "    sys.exit(main())\n",
      "  File \"/opt/conda/lib/python3.8/site-packages/jupyter_core/application.py\", line 270, in launch_instance\n",
      "    return super(JupyterApp, cls).launch_instance(argv=argv, **kwargs)\n",
      "  File \"/opt/conda/lib/python3.8/site-packages/traitlets/config/application.py\", line 845, in launch_instance\n",
      "    app.start()\n",
      "  File \"/opt/conda/lib/python3.8/site-packages/nbconvert/nbconvertapp.py\", line 350, in start\n",
      "    self.convert_notebooks()\n",
      "  File \"/opt/conda/lib/python3.8/site-packages/nbconvert/nbconvertapp.py\", line 524, in convert_notebooks\n",
      "    self.convert_single_notebook(notebook_filename)\n",
      "  File \"/opt/conda/lib/python3.8/site-packages/nbconvert/nbconvertapp.py\", line 490, in convert_single_notebook\n",
      "    write_results = self.write_single_notebook(output, resources)\n",
      "  File \"/opt/conda/lib/python3.8/site-packages/nbconvert/nbconvertapp.py\", line 450, in write_single_notebook\n",
      "    write_results = self.writer.write(\n",
      "  File \"/opt/conda/lib/python3.8/site-packages/nbconvert/writers/files.py\", line 126, in write\n",
      "    with io.open(dest, 'w', encoding='utf-8') as f:\n",
      "FileNotFoundError: [Errno 2] No such file or directory: 'backups/solutions.md'\n",
      "[NbConvertApp] Converting notebook solutions.ipynb to html\n",
      "[NbConvertApp] Writing 605579 bytes to backups/solutions.html\n",
      "Traceback (most recent call last):\n",
      "  File \"/opt/conda/bin/jupyter-nbconvert\", line 11, in <module>\n",
      "    sys.exit(main())\n",
      "  File \"/opt/conda/lib/python3.8/site-packages/jupyter_core/application.py\", line 270, in launch_instance\n",
      "    return super(JupyterApp, cls).launch_instance(argv=argv, **kwargs)\n",
      "  File \"/opt/conda/lib/python3.8/site-packages/traitlets/config/application.py\", line 845, in launch_instance\n",
      "    app.start()\n",
      "  File \"/opt/conda/lib/python3.8/site-packages/nbconvert/nbconvertapp.py\", line 350, in start\n",
      "    self.convert_notebooks()\n",
      "  File \"/opt/conda/lib/python3.8/site-packages/nbconvert/nbconvertapp.py\", line 524, in convert_notebooks\n",
      "    self.convert_single_notebook(notebook_filename)\n",
      "  File \"/opt/conda/lib/python3.8/site-packages/nbconvert/nbconvertapp.py\", line 490, in convert_single_notebook\n",
      "    write_results = self.write_single_notebook(output, resources)\n",
      "  File \"/opt/conda/lib/python3.8/site-packages/nbconvert/nbconvertapp.py\", line 450, in write_single_notebook\n",
      "    write_results = self.writer.write(\n",
      "  File \"/opt/conda/lib/python3.8/site-packages/nbconvert/writers/files.py\", line 126, in write\n",
      "    with io.open(dest, 'w', encoding='utf-8') as f:\n",
      "FileNotFoundError: [Errno 2] No such file or directory: 'backups/solutions.html'\n"
     ]
    }
   ],
   "source": [
    "#Create a backup of the jupyter notebook in a format for where changes are easier to see.\n",
    "!jupyter nbconvert solutions.ipynb --to=\"python\" --output=\"backups/solutions\"\n",
    "!jupyter nbconvert solutions.ipynb --to markdown --output=\"backups/solutions\"\n",
    "\n",
    "# Also archiving this bad boy\n",
    "!jupyter nbconvert solutions.ipynb --to html --output=\"backups/solutions\""
   ]
  },
  {
   "cell_type": "code",
   "execution_count": null,
   "metadata": {},
   "outputs": [],
   "source": []
  }
 ],
 "metadata": {
  "kernelspec": {
   "display_name": "Python 3",
   "language": "python",
   "name": "python3"
  },
  "language_info": {
   "codemirror_mode": {
    "name": "ipython",
    "version": 3
   },
   "file_extension": ".py",
   "mimetype": "text/x-python",
   "name": "python",
   "nbconvert_exporter": "python",
   "pygments_lexer": "ipython3",
   "version": "3.8.6"
  }
 },
 "nbformat": 4,
 "nbformat_minor": 4
}
