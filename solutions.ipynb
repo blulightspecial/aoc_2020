{
 "cells": [
  {
   "cell_type": "markdown",
   "metadata": {},
   "source": [
    "# Advent of Code 2020\n",
    "\n",
    "login is **Github** credentials\n",
    "\n",
    "https://adventofcode.com/2020/"
   ]
  },
  {
   "cell_type": "code",
   "execution_count": 1,
   "metadata": {},
   "outputs": [
    {
     "name": "stdout",
     "output_type": "stream",
     "text": [
      "hello santa\n"
     ]
    }
   ],
   "source": [
    "print(\"hello santa\")"
   ]
  },
  {
   "cell_type": "markdown",
   "metadata": {},
   "source": [
    "## Imports Setup Etc"
   ]
  },
  {
   "cell_type": "code",
   "execution_count": 2,
   "metadata": {},
   "outputs": [],
   "source": [
    "import numpy as np\n",
    "import pandas as pd\n",
    "import re"
   ]
  },
  {
   "cell_type": "markdown",
   "metadata": {},
   "source": [
    "## Day 1    \n",
    "\n",
    "**Part 1**: Find the 2 numbers that add to 2020 report the product of those numbers\n",
    "\n",
    "**Part 2**: Same as part 1 but with 3 numbers"
   ]
  },
  {
   "cell_type": "code",
   "execution_count": 3,
   "metadata": {},
   "outputs": [
    {
     "name": "stdout",
     "output_type": "stream",
     "text": [
      "Part 1:\n",
      "62 + 1958 = 2020\n",
      "62 x 1958 = 121396\n",
      "\n",
      "Part 2\n",
      "117 + 426 + 1477 = 2020\n",
      "117 x 426 x 1477 = 73616634\n"
     ]
    }
   ],
   "source": [
    "def day1():\n",
    "\n",
    "    ## load in data\n",
    "    with open(\"input01.txt\") as f: # Read file ('with' closes when done)\n",
    "        info = f.read()\n",
    "    info = info.split()            # Get list of values (as strings)\n",
    "    info = [int(s) for s in info]  # Convert strings to ints\n",
    "\n",
    "    ## Sort data\n",
    "    info.sort()  #sort the data in place. \n",
    "\n",
    "    ### part 1\n",
    "\n",
    "    ## Check sums on the sorted info\n",
    "        ## start with smallest number add largest number until you get smaller than 2020 \n",
    "        ## at that point move to second largest number\n",
    "    n1 = 0\n",
    "    n2 = 0\n",
    "    jj = len(info)-1\n",
    "\n",
    "    for ii in range(len(info)): \n",
    "        while (info[ii] + info[jj]) >= 2020 and n1 == 0:\n",
    "            if info[ii] + info[jj] == 2020:\n",
    "                n1 = info[ii]  # grab number we are looking for\n",
    "                n2 = info[jj]  # grab number\n",
    "                jj = 1         # break while loop\n",
    "            jj -= 1\n",
    "        jj += 1\n",
    "    \n",
    "    print(\"Part 1:\")\n",
    "    print(\"{} + {} = {}\".format(n1,n2,n1+n2))\n",
    "    print(\"{} x {} = {}\".format(n1,n2,n1*n2))\n",
    "\n",
    "    ### part 2\n",
    "\n",
    "    ## similar to part 1, but we'll start one at the lowest, another right above, a third at the end. \n",
    "        ## move one at end down until gt 2020 then move second one up and try again (similar to above)\n",
    "        ## if it's too big at jj==1, then increment ii and start over\n",
    "    n1 = 0\n",
    "    n2 = 0\n",
    "    n3 = 0\n",
    "    ii = 0\n",
    "    jj = 1\n",
    "    kk = len(info)-1\n",
    "    while n1 == 0:\n",
    "        while jj < kk and n1 == 0:\n",
    "            while (info[ii] + info[jj] + info[kk]) >= 2020 and n1 == 0:\n",
    "    #             print(\"{} + {} + {} = {}\".format(info[ii],info[jj],info[kk],info[ii]+info[jj]+info[kk]))\n",
    "                if info[ii] + info[jj] + info[kk] == 2020:\n",
    "                    n1 = info[ii]  # grab number we are looking for\n",
    "                    n2 = info[jj]  # grab number\n",
    "                    n3 = info[kk]  # grab number\n",
    "                kk -= 1\n",
    "            jj += 1\n",
    "            kk += 1\n",
    "        ii += 1\n",
    "        jj = ii + 1\n",
    "        kk = len(info)-1\n",
    "\n",
    "    print(\"\\nPart 2\")\n",
    "    print(\"{} + {} + {} = {}\".format(n1,n2,n3,n1+n2+n3))\n",
    "    print(\"{} x {} x {} = {}\".format(n1,n2,n3,n1*n2*n3))\n",
    "\n",
    "day1()"
   ]
  },
  {
   "cell_type": "markdown",
   "metadata": {},
   "source": [
    "## Day 2\n",
    "\n",
    "**Part 1**: Count the number of valid passwords. Valid passwords are ones where the number of occurences of the letter indicated are between the min and max number of occurences shown.\n",
    "\n",
    "**Part 2**: New definition of valid, the letter indicated needs to occur at exactly one of the 2 indicies indicated. Note that this is a \"one based\" indexing system for the problem.\n",
    "\n",
    "#### Resources\n",
    "\n",
    "* StackOverflow XOR in python\n",
    "  * https://stackoverflow.com/questions/432842/how-do-you-get-the-logical-xor-of-two-variables-in-python\n",
    "* Documentation for python re library and usage\n",
    "  * https://docs.python.org/3/library/re.html\n",
    "* Suuuper Helpful video from Corey Schafer on regular expressions\n",
    "  * The part that I'm most interested in in about 45 minutes in\n",
    "  * https://www.youtube.com/watch?v=K8L6KVGG-7o\n"
   ]
  },
  {
   "cell_type": "code",
   "execution_count": 4,
   "metadata": {},
   "outputs": [
    {
     "name": "stdout",
     "output_type": "stream",
     "text": [
      "Part 1\n",
      "There are 536 valid passwords\n",
      "\n",
      "Part 2\n",
      "There are 558 valid passwords\n"
     ]
    }
   ],
   "source": [
    "def day2():\n",
    "    \n",
    "    ### Part 1\n",
    "    \n",
    "    ## Load in data\n",
    "    with open(\"input02.txt\") as f: # Read file ('with' closes when done)\n",
    "        raw = f.read()\n",
    "    \n",
    "    ## Split up rows into (min, max, letter, password)\n",
    "    pat = re.compile(\"(\\d+)-(\\d+)\\s([a-z]):\\s([a-z]+)\")\n",
    "    reres = pat.findall(raw)\n",
    "\n",
    "    ## Make a list to keep track of valid passwords\n",
    "    isValid = [False]*len(reres)\n",
    "    \n",
    "    ## Check validity\n",
    "    rcnt = 0\n",
    "    for row in reres:\n",
    "        ccnt = 0\n",
    "        for c in row[3]:\n",
    "            if c == row[2]:\n",
    "                ccnt += 1\n",
    "        isValid[rcnt] = ccnt >= int(row[0]) and ccnt <= int(row[1])\n",
    "        rcnt += 1\n",
    "    \n",
    "    print(\"Part 1\")\n",
    "    print(\"There are {} valid passwords\".format(sum(isValid)))\n",
    "    \n",
    "    ### Part 2\n",
    "        ## Reusing a lot of part 1. Only validity check changes.\n",
    "    \n",
    "    ## Make a list to keep track of valid passwords\n",
    "    isValid = [False]*len(reres)\n",
    "    \n",
    "    ## Check validity\n",
    "    rcnt = 0\n",
    "    for row in reres:\n",
    "        ## see if characters at required indices are valid\n",
    "            ## the \"-1\" converts the 1 based idx given to our zero based index\n",
    "            ## != functions as xor operator comparing booleans\n",
    "        isValid[rcnt] = ((row[3][int(row[0])-1] == row[2]) != \n",
    "                         (row[3][int(row[1])-1] == row[2]))\n",
    "        rcnt += 1\n",
    "    \n",
    "    print(\"\\nPart 2\")\n",
    "    print(\"There are {} valid passwords\".format(sum(isValid)))\n",
    "            \n",
    "day2()"
   ]
  },
  {
   "cell_type": "markdown",
   "metadata": {},
   "source": [
    "## Day 3\n",
    "\n",
    "**Part 1**: It's a long description. Essentially count the number of `#` you hit onthe way down moving over 3 cells and down 1 cell. Assume that the pattern given is repeated indefinite number of times horizontally.\n",
    "\n",
    "This basically looks like it's going to be pretty easy with good use of the modulo function.\n",
    "\n",
    "**Part 2**: Try again with some different slopes. Report the product of those slopes. Specifically, try:\n",
    "\n",
    "* Right 1, down 1.\n",
    "* Right 3, down 1. (This is the slope you already checked.)\n",
    "* Right 5, down 1.\n",
    "* Right 7, down 1.\n",
    "* Right 1, down 2\n"
   ]
  },
  {
   "cell_type": "code",
   "execution_count": 5,
   "metadata": {
    "scrolled": true
   },
   "outputs": [
    {
     "name": "stdout",
     "output_type": "stream",
     "text": [
      "Part 1\n",
      "You will hit 218 trees at an angle of 3 to 1\n",
      "\n",
      "Part 2\n",
      "[77, 218, 65, 82, 43]\n",
      "3847183340\n",
      "The product of the collisions is 3847183340\n"
     ]
    }
   ],
   "source": [
    "def day3_help(over = 3, down = 1):\n",
    "    \n",
    "    ## It's a little clunky to hardcode the file read but... whatever...\n",
    "    ## Load in data\n",
    "    with open(\"input03.txt\") as f: # Read file ('with' closes when done)\n",
    "        raw = f.read()\n",
    "    \n",
    "    ## Split data into a list of rows\n",
    "    res = raw.split()\n",
    "    \n",
    "    ## Work with smaller set initially easier to QC\n",
    "    # res = res[:10]\n",
    "    \n",
    "    ## Set up some control and counter variables\n",
    "    nrow = len(res)     # variable for number of rows\n",
    "    ncol = len(res[0])  # variable for num columns (all rows have same)\n",
    "    colCnt = 0          # track number of collisions\n",
    "    \n",
    "    for ii in range(nrow):\n",
    "        if ii%down == 0 and res[ii][(ii//down)*over%ncol] == \"#\":\n",
    "            colCnt += 1\n",
    "    \n",
    "    return colCnt\n",
    "\n",
    "def day3():\n",
    "    \n",
    "    ### Part 1\n",
    "    \n",
    "    over = 3\n",
    "    down = 1\n",
    "    \n",
    "    colCnt = day3_help(over,down)\n",
    "\n",
    "    print(\"Part 1\")\n",
    "    print(\"You will hit {} trees at an angle of {} to {}\".format(colCnt,over,down))\n",
    "    \n",
    "    ### Part 2\n",
    "    \n",
    "    slopes = [[1,1],\n",
    "              [3,1],\n",
    "              [5,1],\n",
    "              [7,1],\n",
    "              [1,2]]\n",
    "    \n",
    "    cols = [0]*5  # Create empty list to store nubmer of collisions each\n",
    "    product = 1\n",
    "    cnt = 0\n",
    "    for slope in slopes:\n",
    "        cols[cnt] = day3_help(slope[0],slope[1])\n",
    "        product *= cols[cnt]\n",
    "        cnt += 1\n",
    "    \n",
    "    print(\"\\nPart 2\")\n",
    "    print(cols)\n",
    "    print(np.prod(cols))\n",
    "    print(\"The product of the collisions is {}\".format(product))\n",
    "            \n",
    "day3()"
   ]
  },
  {
   "cell_type": "markdown",
   "metadata": {},
   "source": [
    "## Day 4\n",
    "\n",
    "**Part 1**: Checking if passport info has all required fields\n",
    "\n",
    "**Part 2**: More validation required\n",
    "\n",
    "You can continue to ignore the cid field, but each other field has strict rules about what values are valid for automatic validation:\n",
    "\n",
    "* byr (Birth Year) - four digits; at least 1920 and at most 2002.\n",
    "* iyr (Issue Year) - four digits; at least 2010 and at most 2020.\n",
    "* eyr (Expiration Year) - four digits; at least 2020 and at most 2030.\n",
    "* hgt (Height) - a number followed by either cm or in:\n",
    "* If cm, the number must be at least 150 and at most 193.\n",
    "* If in, the number must be at least 59 and at most 76.\n",
    "* hcl (Hair Color) - a # followed by exactly six characters 0-9 or a-f.\n",
    "* ecl (Eye Color) - exactly one of: amb blu brn gry grn hzl oth.\n",
    "* pid (Passport ID) - a nine-digit number, including leading zeroes.\n",
    "* cid (Country ID) - ignored, missing or not."
   ]
  },
  {
   "cell_type": "code",
   "execution_count": 6,
   "metadata": {
    "scrolled": true
   },
   "outputs": [
    {
     "name": "stdout",
     "output_type": "stream",
     "text": [
      "Part 1\n",
      "There are 254 valid passports\n",
      "\n",
      "Part 2\n",
      "With more scrutiny, there are 184 valid passports\n"
     ]
    }
   ],
   "source": [
    "def day4():\n",
    "    \n",
    "    with open(\"input04.txt\") as f:\n",
    "        raw = f.read()\n",
    "    \n",
    "    ### Part 1\n",
    "    \n",
    "    ## Setup \n",
    "    \n",
    "    ## Required Fields\n",
    "    req = [\"byr\",\"iyr\",\"eyr\",\"hgt\",\"hcl\",\"ecl\",\"pid\"] # 'cid' not required\n",
    "    \n",
    "    ## Split up and check for Required Feilds\n",
    "    \n",
    "    ## Find 3 ltr strings followed by \":\" and anum chrs \n",
    "        ## Keep initial ltrs as group 1. Second string as grp 2.\n",
    "    pat = re.compile(\"([a-z]{3}):(\\S+)\") \n",
    "    \n",
    "    ## Actually split and run.\n",
    "    res = raw.split(sep = \"\\n\\n\")             # First split by passport\n",
    "    valid = [True] * len(res)                 # Make collector for validity\n",
    "    for ii in range(len(res)):\n",
    "        res[ii] = dict(pat.findall(res[ii]))  # For each passport break up the info and put into dict\n",
    "        for jj in range(len(req)):\n",
    "            if not(req[jj] in res[ii]):\n",
    "                valid[ii] = False\n",
    "    \n",
    "    print(\"Part 1\")\n",
    "    print(\"There are {} valid passports\".format(sum(valid)))\n",
    "    \n",
    "    ### Part 2 \n",
    "    \n",
    "    valid = [True]*len(res)\n",
    "    \n",
    "    for ii in range(len(res)):\n",
    "        \n",
    "        ## Validate birth year\n",
    "        if \"byr\" in res[ii]: \n",
    "            if int(res[ii][\"byr\"]) < 1920 or int(res[ii][\"byr\"]) > 2002:\n",
    "                valid[ii] = False\n",
    "        else:\n",
    "            valid[ii] = False\n",
    "        \n",
    "        ## Validate issue year\n",
    "        if \"iyr\" in res[ii]:\n",
    "            if int(res[ii][\"iyr\"]) < 2010 or int(res[ii][\"iyr\"]) > 2020:\n",
    "                valid[ii] = False\n",
    "        else: \n",
    "            valid[ii] = False\n",
    "        \n",
    "        ## Validate expiry year\n",
    "        if \"eyr\" in res[ii]:\n",
    "            if int(res[ii][\"eyr\"]) < 2020 or int(res[ii][\"eyr\"]) > 2030:\n",
    "                valid[ii] = False\n",
    "        else: \n",
    "            valid[ii] = False\n",
    "        \n",
    "        ## Validate height\n",
    "        if \"hgt\" in res[ii]:\n",
    "            if re.search(\"([0-9]+)(in|cm)\",res[ii][\"hgt\"]) != None:\n",
    "                (meas, unit) = re.findall(\"([0-9]+)(in|cm)\",res[ii][\"hgt\"])[0]\n",
    "                if unit == \"cm\" and (int(meas) < 150 or int(meas) > 193):\n",
    "                    valid[ii] = False\n",
    "                if unit == \"in\" and (int(meas) < 59 or int(meas) > 76):\n",
    "                    valid[ii] = False\n",
    "            else:\n",
    "                valid[ii] = False\n",
    "        else: \n",
    "            valid[ii] = False\n",
    "        \n",
    "        ## Validate haircolor\n",
    "        if \"hcl\" in res[ii]:\n",
    "            if re.search(\"#[0-9a-f]\",res[ii][\"hcl\"]) == None:\n",
    "                valid[ii] = False\n",
    "        else:\n",
    "            valid[ii] = False\n",
    "        \n",
    "        ## Validate eyecolor\n",
    "        if not(res[ii].get(\"ecl\") in [\"amb\", \"blu\", \"brn\", \"gry\", \"grn\", \"hzl\", \"oth\"]):\n",
    "            valid[ii] = False\n",
    "            \n",
    "        ## Validate passport id\n",
    "        if \"pid\" in res[ii]:\n",
    "            if re.search(\"\\A\\d{9}$\",res[ii][\"pid\"]) == None:\n",
    "                valid[ii] = False\n",
    "        else:\n",
    "            valid[ii] = False\n",
    "    \n",
    "    print(\"\\nPart 2\")\n",
    "    print(\"With more scrutiny, there are {} valid passports\".format(sum(valid)))\n",
    "\n",
    "day4()"
   ]
  },
  {
   "cell_type": "markdown",
   "metadata": {},
   "source": [
    "## Day 5\n",
    "\n",
    "**Part 1**: Take binary \"seat row and column\" convert them to integer. Use thes integers to find unique id\n",
    "\n",
    "**Part 2**: Find the missing id (ids don't start at 0)\n",
    "\n",
    "**Refernces*:\n",
    "\n",
    "* StackOverflow Post on converting binary strings to integers\n",
    "    * https://stackoverflow.com/questions/8928240/convert-base-2-binary-number-string-to-int/8928256#8928256"
   ]
  },
  {
   "cell_type": "code",
   "execution_count": 7,
   "metadata": {
    "scrolled": false
   },
   "outputs": [
    {
     "name": "stdout",
     "output_type": "stream",
     "text": [
      "Part 1\n",
      "The largest id number is 848\n",
      "\n",
      "Part 2\n",
      "Your seat is 682\n"
     ]
    }
   ],
   "source": [
    "def day5():\n",
    "    \n",
    "    with open(\"input05.txt\") as f:\n",
    "        raw = f.read()\n",
    "    \n",
    "    pat = re.compile(\"([F|B]+)([R|L]+)\")\n",
    "    res1 = pat.findall(raw)\n",
    "    \n",
    "    ### Part 1\n",
    "    \n",
    "    res2 = [0] * len(res1)        # Build list of zeros\n",
    "    for ii in range(len(res1)):\n",
    "        rnum = int(res1[ii][0].replace(\"F\",\"0\").replace(\"B\",\"1\"),2) # pull our row num\n",
    "        cnum = int(res1[ii][1].replace(\"L\",\"0\").replace(\"R\",\"1\"),2) # pull out col num\n",
    "        res2[ii] = rnum * 8 + cnum                                  # grab id number\n",
    "    \n",
    "    print(\"Part 1\")\n",
    "    print(\"The largest id number is {}\".format(max(res2)))\n",
    "    \n",
    "    ### Part 2\n",
    "    \n",
    "    res2.sort()  # sort the ids in place\n",
    "    \n",
    "    res3 = 0\n",
    "    cnt = 0\n",
    "    while res3 == 0:\n",
    "        if res2[cnt] != res2[cnt+1]-1:\n",
    "            res3 = res2[cnt]+1\n",
    "        cnt += 1\n",
    "    \n",
    "    print(\"\\nPart 2\")\n",
    "    print(\"Your seat is {}\".format(res3))\n",
    "            \n",
    "day5()"
   ]
  },
  {
   "cell_type": "markdown",
   "metadata": {},
   "source": [
    "## Day 6\n",
    "\n",
    "**Part 1**: count number of questions that anyone ina group answered yes to\n",
    "\n",
    "I'm going to dump them all in set objects. I just need to strip out newline characters\n",
    "\n",
    "**Part 2**: count the number of questions that everyone in a group answered yes to.\n"
   ]
  },
  {
   "cell_type": "code",
   "execution_count": 8,
   "metadata": {
    "scrolled": false
   },
   "outputs": [
    {
     "name": "stdout",
     "output_type": "stream",
     "text": [
      "Part 1\n",
      "The sum of the number of positive answers (per group is) 6778\n",
      "\n",
      "Part 2\n",
      "The sum of the number of positive answers (per group is) 3406\n"
     ]
    }
   ],
   "source": [
    "def day6():\n",
    "    \n",
    "    with open(\"input06.txt\") as f:\n",
    "        raw = f.read()\n",
    "    \n",
    "    ### Part 1\n",
    "    \n",
    "    res1 = raw.split(\"\\n\\n\")\n",
    "    \n",
    "    res2 = [0]*len(res1)\n",
    "    \n",
    "    for ii in range(len(res1)):\n",
    "        res1[ii] = res1[ii].replace(\"\\n\",\"\")\n",
    "        res2[ii] = len(set(res1[ii]))\n",
    "\n",
    "    print(\"Part 1\")\n",
    "    print(\"The sum of the number of positive answers (per group is) {}\".format(sum(res2)))\n",
    "    \n",
    "    ### Part 2\n",
    "    \n",
    "    res3 = [r.split(\"\\n\") for r in raw.split(\"\\n\\n\")]\n",
    "    \n",
    "    res4 = [0]*len(res3)\n",
    "    \n",
    "    \n",
    "    ## dictionary based soultion Unfinished. I like a set based solution better. \n",
    "#     for ii in range(len(res3)):\n",
    "        \n",
    "#         resdic = dict()                 # dict to hold intermediate results\n",
    "#         for jj in range(len(res3[ii])):\n",
    "#             for kk in range(len(res3[ii][jj])):\n",
    "#                 c = len(res3[ii][jj][kk])\n",
    "#                     count = resdic.get(c)\n",
    "#                     resdic[c] = 1 if c==None else c + 1\n",
    "\n",
    "    for ii in range(len(res3)):\n",
    "        rptset = set(res3[ii][0])\n",
    "        for jj in range(1,len(res3[ii])):\n",
    "            rptset = rptset.intersection(set(res3[ii][jj]))\n",
    "        res4[ii] = len(rptset)\n",
    "    \n",
    "    print(\"\\nPart 2\")\n",
    "    print(\"The sum of the number of positive answers (per group is) {}\".format(sum(res4)))\n",
    "            \n",
    "day6()"
   ]
  },
  {
   "cell_type": "markdown",
   "metadata": {},
   "source": [
    "## Day 7\n",
    "\n",
    "**Part 1**: There is a heirarchy of what types of bags can fit into other bags. Given that we have a shiny gold bag, we want to find out how many different types of bags could contain it. This is apparently a directed acyclic graph DAG. I looked into ways of representing graphs in python. The dictionary approach seems very elegant. \n",
    "\n",
    "**Part 2**: Solve a more nuanced version of the same puzzle\n",
    "\n",
    "**References**:\n",
    "\n",
    "* Building and Representing a graph in Python.\n",
    "  * https://www.python.org/doc/essays/graphs/"
   ]
  },
  {
   "cell_type": "code",
   "execution_count": 11,
   "metadata": {
    "scrolled": true
   },
   "outputs": [
    {
     "name": "stdout",
     "output_type": "stream",
     "text": [
      "light red bags contain 1 bright white bag, 2 muted yellow bags.\n",
      "dark orange bags contain 3 bright white bags, 4 muted yellow bags.\n",
      "bright white bags contain 1 shiny gold bag.\n",
      "muted yellow bags contain 2 shiny gold bags, 9 faded blue bags.\n",
      "shiny gold bags contain 1 dark olive bag, 2 vibrant plum bags.\n",
      "dark olive bags contain 3 faded blue bags, 4 dotted black bags.\n",
      "vibrant plum bags contain 5 faded blue bags, 6 dotted black bags.\n",
      "faded blue bags contain no other bags.\n",
      "dotted black bags contain no other bags.\n",
      "[('light red', 'bright white', 'muted yellow'), ('dark orange', 'bright white', 'muted yellow'), ('muted yellow', 'shiny gold', 'faded blue'), ('shiny gold', 'dark olive', 'vibrant plum'), ('dark olive', 'faded blue', 'dotted black'), ('vibrant plum', 'faded blue', 'dotted black')]\n",
      "Part 1\n",
      "You will hit 420 trees at an angle of 6 to 9\n",
      "\n",
      "Part 2\n",
      "The product of the collisions is cool explosions\n"
     ]
    }
   ],
   "source": [
    "def day7():\n",
    "    \n",
    "    with open(\"input07lite.txt\") as f:\n",
    "#     with open(\"input07.txt\") as f:\n",
    "        raw = f.read()\n",
    "    \n",
    "    print(raw)\n",
    "    \n",
    "    pat = re.compile(\"(\\w+ \\w+) bags contain \\d\\d? (\\w+ \\w+) bags?, \\d\\d? (\\w+ \\+)\")\n",
    "    \n",
    "    res1 = pat.findall(raw)\n",
    "    \n",
    "    print(res1)\n",
    "    \n",
    "    ### Part 1\n",
    "\n",
    "    print(\"Part 1\")\n",
    "    print(\"You will hit {} trees at an angle of {} to {}\".format(420,6,9))\n",
    "    \n",
    "    ### Part 2\n",
    "    \n",
    "    print(\"\\nPart 2\")\n",
    "    print(\"The product of the collisions is {}\".format(\"cool explosions\"))\n",
    "            \n",
    "day7()"
   ]
  },
  {
   "cell_type": "markdown",
   "metadata": {},
   "source": [
    "## Scratch"
   ]
  },
  {
   "cell_type": "code",
   "execution_count": null,
   "metadata": {
    "scrolled": false
   },
   "outputs": [],
   "source": [
    "a = set(\"aaabc\")\n",
    "print(a)\n",
    "b = set(\"aabca\\ncba  cac\")\n",
    "print(b)\n",
    "for ii in range(1,4):\n",
    "    print(ii)"
   ]
  },
  {
   "cell_type": "markdown",
   "metadata": {},
   "source": [
    "## Day n\n",
    "\n",
    "**Part 1**: Solve a puzzle\n",
    "\n",
    "**Part 2**: Solve a more nuanced version of the same puzzle\n"
   ]
  },
  {
   "cell_type": "code",
   "execution_count": null,
   "metadata": {
    "scrolled": true
   },
   "outputs": [],
   "source": [
    "def dayN():\n",
    "    \n",
    "    with open(\"inputN.txt\") as f:\n",
    "        raw = f.read()\n",
    "    \n",
    "    print(raw)\n",
    "    \n",
    "    ### Part 1\n",
    "\n",
    "    print(\"Part 1\")\n",
    "    print(\"You will hit {} trees at an angle of {} to {}\".format(420,6,9))\n",
    "    \n",
    "    ### Part 2\n",
    "    \n",
    "    print(\"\\nPart 2\")\n",
    "    print(\"The product of the collisions is {}\".format(\"cool explosions\"))\n",
    "            \n",
    "dayN()"
   ]
  },
  {
   "cell_type": "markdown",
   "metadata": {},
   "source": [
    "## Backup\n",
    "\n",
    "Create alternate backup versions that are easier to diff in git and easier to view in a pinch"
   ]
  },
  {
   "cell_type": "code",
   "execution_count": null,
   "metadata": {},
   "outputs": [],
   "source": [
    "#Create a backup of the jupyter notebook in a format for where changes are easier to see.\n",
    "!jupyter nbconvert solutions.ipynb --to=\"python\" --output=\"backups/solutions\"\n",
    "!jupyter nbconvert solutions.ipynb --to markdown --output=\"backups/solutions\"\n",
    "\n",
    "# Also archiving this bad boy\n",
    "!jupyter nbconvert solutions.ipynb --to html --output=\"backups/solutions\""
   ]
  },
  {
   "cell_type": "code",
   "execution_count": null,
   "metadata": {},
   "outputs": [],
   "source": []
  }
 ],
 "metadata": {
  "kernelspec": {
   "display_name": "Python 3",
   "language": "python",
   "name": "python3"
  },
  "language_info": {
   "codemirror_mode": {
    "name": "ipython",
    "version": 3
   },
   "file_extension": ".py",
   "mimetype": "text/x-python",
   "name": "python",
   "nbconvert_exporter": "python",
   "pygments_lexer": "ipython3",
   "version": "3.8.6"
  }
 },
 "nbformat": 4,
 "nbformat_minor": 4
}
